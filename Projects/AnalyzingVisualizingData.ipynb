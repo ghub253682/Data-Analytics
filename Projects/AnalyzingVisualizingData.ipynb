{
 "cells": [
  {
   "cell_type": "code",
   "execution_count": 2,
   "id": "d2e58a08",
   "metadata": {},
   "outputs": [],
   "source": [
    "import pandas as pd\n",
    "import numpy as np\n",
    "import matplotlib.pyplot as plt\n",
    "import seaborn as sns"
   ]
  },
  {
   "cell_type": "code",
   "execution_count": 6,
   "id": "2d1269ba",
   "metadata": {},
   "outputs": [
    {
     "data": {
      "text/html": [
       "<div>\n",
       "<style scoped>\n",
       "    .dataframe tbody tr th:only-of-type {\n",
       "        vertical-align: middle;\n",
       "    }\n",
       "\n",
       "    .dataframe tbody tr th {\n",
       "        vertical-align: top;\n",
       "    }\n",
       "\n",
       "    .dataframe thead th {\n",
       "        text-align: right;\n",
       "    }\n",
       "</style>\n",
       "<table border=\"1\" class=\"dataframe\">\n",
       "  <thead>\n",
       "    <tr style=\"text-align: right;\">\n",
       "      <th></th>\n",
       "      <th>Time</th>\n",
       "      <th>Service</th>\n",
       "      <th>Volume</th>\n",
       "      <th>Measurement</th>\n",
       "      <th>Charge</th>\n",
       "    </tr>\n",
       "    <tr>\n",
       "      <th>ï»¿Date</th>\n",
       "      <th></th>\n",
       "      <th></th>\n",
       "      <th></th>\n",
       "      <th></th>\n",
       "      <th></th>\n",
       "    </tr>\n",
       "  </thead>\n",
       "  <tbody>\n",
       "    <tr>\n",
       "      <th>4/19/2020</th>\n",
       "      <td>2:05 AM</td>\n",
       "      <td>Mobile Internet</td>\n",
       "      <td>14.16</td>\n",
       "      <td>Megabytes</td>\n",
       "      <td>$0.05</td>\n",
       "    </tr>\n",
       "    <tr>\n",
       "      <th>4/20/2020</th>\n",
       "      <td>3:05 AM</td>\n",
       "      <td>Mobile Internet</td>\n",
       "      <td>0.01</td>\n",
       "      <td>Megabytes</td>\n",
       "      <td>$0.06</td>\n",
       "    </tr>\n",
       "    <tr>\n",
       "      <th>4/21/2020</th>\n",
       "      <td>4:05 AM</td>\n",
       "      <td>Mobile Internet</td>\n",
       "      <td>0.16</td>\n",
       "      <td>Megabytes</td>\n",
       "      <td>$0.08</td>\n",
       "    </tr>\n",
       "    <tr>\n",
       "      <th>4/22/2020</th>\n",
       "      <td>5:05 AM</td>\n",
       "      <td>Mobile Internet</td>\n",
       "      <td>11.16</td>\n",
       "      <td>Megabytes</td>\n",
       "      <td>$0.15</td>\n",
       "    </tr>\n",
       "    <tr>\n",
       "      <th>4/23/2020</th>\n",
       "      <td>6:05 AM</td>\n",
       "      <td>Mobile Internet</td>\n",
       "      <td>9.16</td>\n",
       "      <td>Megabytes</td>\n",
       "      <td>$0.25</td>\n",
       "    </tr>\n",
       "  </tbody>\n",
       "</table>\n",
       "</div>"
      ],
      "text/plain": [
       "              Time          Service  Volume Measurement  Charge\n",
       "ï»¿Date                                                        \n",
       "4/19/2020  2:05 AM  Mobile Internet   14.16   Megabytes  $0.05 \n",
       "4/20/2020  3:05 AM  Mobile Internet    0.01   Megabytes  $0.06 \n",
       "4/21/2020  4:05 AM  Mobile Internet    0.16   Megabytes  $0.08 \n",
       "4/22/2020  5:05 AM  Mobile Internet   11.16   Megabytes  $0.15 \n",
       "4/23/2020  6:05 AM  Mobile Internet    9.16   Megabytes  $0.25 "
      ]
     },
     "execution_count": 6,
     "metadata": {},
     "output_type": "execute_result"
    }
   ],
   "source": [
    "laptop_data = pd.read_csv('DataSets/PhoneData.csv', encoding='ISO-8859-1', index_col=0)\n",
    "laptop_data.head()"
   ]
  },
  {
   "cell_type": "code",
   "execution_count": 4,
   "id": "dda3227a",
   "metadata": {},
   "outputs": [
    {
     "data": {
      "text/plain": [
       "'C:\\\\Users\\\\keita\\\\Projects\\\\Pythons\\\\DataAnalytics'"
      ]
     },
     "execution_count": 4,
     "metadata": {},
     "output_type": "execute_result"
    }
   ],
   "source": [
    "pwd"
   ]
  },
  {
   "cell_type": "code",
   "execution_count": 7,
   "id": "44a5684d",
   "metadata": {},
   "outputs": [
    {
     "data": {
      "text/plain": [
       "(15, 5)"
      ]
     },
     "execution_count": 7,
     "metadata": {},
     "output_type": "execute_result"
    }
   ],
   "source": [
    "laptop_data.shape"
   ]
  },
  {
   "cell_type": "code",
   "execution_count": 15,
   "id": "2af5f6a5",
   "metadata": {},
   "outputs": [
    {
     "data": {
      "text/html": [
       "<div>\n",
       "<style scoped>\n",
       "    .dataframe tbody tr th:only-of-type {\n",
       "        vertical-align: middle;\n",
       "    }\n",
       "\n",
       "    .dataframe tbody tr th {\n",
       "        vertical-align: top;\n",
       "    }\n",
       "\n",
       "    .dataframe thead th {\n",
       "        text-align: right;\n",
       "    }\n",
       "</style>\n",
       "<table border=\"1\" class=\"dataframe\">\n",
       "  <thead>\n",
       "    <tr style=\"text-align: right;\">\n",
       "      <th></th>\n",
       "      <th>Time</th>\n",
       "      <th>Service</th>\n",
       "      <th>Volume</th>\n",
       "      <th>Measurement</th>\n",
       "      <th>Charge</th>\n",
       "    </tr>\n",
       "    <tr>\n",
       "      <th>ï»¿Date</th>\n",
       "      <th></th>\n",
       "      <th></th>\n",
       "      <th></th>\n",
       "      <th></th>\n",
       "      <th></th>\n",
       "    </tr>\n",
       "  </thead>\n",
       "  <tbody>\n",
       "    <tr>\n",
       "      <th>4/23/2020</th>\n",
       "      <td>6:05 AM</td>\n",
       "      <td>Mobile Internet</td>\n",
       "      <td>9.16</td>\n",
       "      <td>Megabytes</td>\n",
       "      <td>$0.25</td>\n",
       "    </tr>\n",
       "    <tr>\n",
       "      <th>4/21/2020</th>\n",
       "      <td>4:05 AM</td>\n",
       "      <td>Mobile Internet</td>\n",
       "      <td>0.16</td>\n",
       "      <td>Megabytes</td>\n",
       "      <td>$0.08</td>\n",
       "    </tr>\n",
       "    <tr>\n",
       "      <th>5/3/2020</th>\n",
       "      <td>4:05 PM</td>\n",
       "      <td>Mobile Internet</td>\n",
       "      <td>16.16</td>\n",
       "      <td>Megabytes</td>\n",
       "      <td>$0.00</td>\n",
       "    </tr>\n",
       "    <tr>\n",
       "      <th>4/20/2020</th>\n",
       "      <td>3:05 AM</td>\n",
       "      <td>Mobile Internet</td>\n",
       "      <td>0.01</td>\n",
       "      <td>Megabytes</td>\n",
       "      <td>$0.06</td>\n",
       "    </tr>\n",
       "    <tr>\n",
       "      <th>4/22/2020</th>\n",
       "      <td>5:05 AM</td>\n",
       "      <td>Mobile Internet</td>\n",
       "      <td>11.16</td>\n",
       "      <td>Megabytes</td>\n",
       "      <td>$0.15</td>\n",
       "    </tr>\n",
       "    <tr>\n",
       "      <th>4/19/2020</th>\n",
       "      <td>2:05 AM</td>\n",
       "      <td>Mobile Internet</td>\n",
       "      <td>14.16</td>\n",
       "      <td>Megabytes</td>\n",
       "      <td>$0.05</td>\n",
       "    </tr>\n",
       "    <tr>\n",
       "      <th>4/27/2020</th>\n",
       "      <td>10:05 AM</td>\n",
       "      <td>Mobile Internet</td>\n",
       "      <td>10.36</td>\n",
       "      <td>Megabytes</td>\n",
       "      <td>$0.55</td>\n",
       "    </tr>\n",
       "    <tr>\n",
       "      <th>4/30/2020</th>\n",
       "      <td>1:05 PM</td>\n",
       "      <td>Mobile Internet</td>\n",
       "      <td>14.02</td>\n",
       "      <td>Megabytes</td>\n",
       "      <td>$0.90</td>\n",
       "    </tr>\n",
       "    <tr>\n",
       "      <th>4/24/2020</th>\n",
       "      <td>7:05 AM</td>\n",
       "      <td>Mobile Internet</td>\n",
       "      <td>4.16</td>\n",
       "      <td>Megabytes</td>\n",
       "      <td>$0.36</td>\n",
       "    </tr>\n",
       "    <tr>\n",
       "      <th>5/2/2020</th>\n",
       "      <td>3:05 PM</td>\n",
       "      <td>Mobile Internet</td>\n",
       "      <td>14.11</td>\n",
       "      <td>Megabytes</td>\n",
       "      <td>$0.04</td>\n",
       "    </tr>\n",
       "  </tbody>\n",
       "</table>\n",
       "</div>"
      ],
      "text/plain": [
       "               Time          Service  Volume Measurement  Charge\n",
       "ï»¿Date                                                         \n",
       "4/23/2020   6:05 AM  Mobile Internet    9.16   Megabytes  $0.25 \n",
       "4/21/2020   4:05 AM  Mobile Internet    0.16   Megabytes  $0.08 \n",
       "5/3/2020    4:05 PM  Mobile Internet   16.16   Megabytes  $0.00 \n",
       "4/20/2020   3:05 AM  Mobile Internet    0.01   Megabytes  $0.06 \n",
       "4/22/2020   5:05 AM  Mobile Internet   11.16   Megabytes  $0.15 \n",
       "4/19/2020   2:05 AM  Mobile Internet   14.16   Megabytes  $0.05 \n",
       "4/27/2020  10:05 AM  Mobile Internet   10.36   Megabytes  $0.55 \n",
       "4/30/2020   1:05 PM  Mobile Internet   14.02   Megabytes  $0.90 \n",
       "4/24/2020   7:05 AM  Mobile Internet    4.16   Megabytes  $0.36 \n",
       "5/2/2020    3:05 PM  Mobile Internet   14.11   Megabytes  $0.04 "
      ]
     },
     "execution_count": 15,
     "metadata": {},
     "output_type": "execute_result"
    }
   ],
   "source": [
    "laptop_data.sample(10)"
   ]
  },
  {
   "cell_type": "code",
   "execution_count": 24,
   "id": "f5d8ac0d",
   "metadata": {},
   "outputs": [
    {
     "data": {
      "image/png": "[encoded data removed]",
      "text/plain": [
       "<Figure size 1000x600 with 1 Axes>"
      ]
     },
     "metadata": {},
     "output_type": "display_data"
    }
   ],
   "source": [
    "plt.figure(figsize=(10, 6))\n",
    "laptop_data['Charge'].value_counts().plot(kind='bar')\n",
    "plt.title('By Charge', fontsize=12)\n",
    "plt.xlabel('Charge', fontsize=10)\n",
    "plt.ylabel('Frequency', fontsize=10)\n",
    "plt.show()"
   ]
  },
  {
   "cell_type": "code",
   "execution_count": 25,
   "id": "c7374c0e",
   "metadata": {},
   "outputs": [],
   "source": [
    "from sklearn.preprocessing import LabelEncoder\n",
    "label_encoder = LabelEncoder()\n",
    "laptop_data['Time'] = label_encoder.fit_transform(laptop_data['Time'])"
   ]
  },
  {
   "cell_type": "code",
   "execution_count": 26,
   "id": "89c2d44c",
   "metadata": {},
   "outputs": [
    {
     "data": {
      "text/html": [
       "<div>\n",
       "<style scoped>\n",
       "    .dataframe tbody tr th:only-of-type {\n",
       "        vertical-align: middle;\n",
       "    }\n",
       "\n",
       "    .dataframe tbody tr th {\n",
       "        vertical-align: top;\n",
       "    }\n",
       "\n",
       "    .dataframe thead th {\n",
       "        text-align: right;\n",
       "    }\n",
       "</style>\n",
       "<table border=\"1\" class=\"dataframe\">\n",
       "  <thead>\n",
       "    <tr style=\"text-align: right;\">\n",
       "      <th></th>\n",
       "      <th>Time</th>\n",
       "      <th>Service</th>\n",
       "      <th>Volume</th>\n",
       "      <th>Measurement</th>\n",
       "      <th>Charge</th>\n",
       "    </tr>\n",
       "    <tr>\n",
       "      <th>ï»¿Date</th>\n",
       "      <th></th>\n",
       "      <th></th>\n",
       "      <th></th>\n",
       "      <th></th>\n",
       "      <th></th>\n",
       "    </tr>\n",
       "  </thead>\n",
       "  <tbody>\n",
       "    <tr>\n",
       "      <th>4/19/2020</th>\n",
       "      <td>4</td>\n",
       "      <td>Mobile Internet</td>\n",
       "      <td>14.16</td>\n",
       "      <td>Megabytes</td>\n",
       "      <td>$0.05</td>\n",
       "    </tr>\n",
       "    <tr>\n",
       "      <th>4/20/2020</th>\n",
       "      <td>6</td>\n",
       "      <td>Mobile Internet</td>\n",
       "      <td>0.01</td>\n",
       "      <td>Megabytes</td>\n",
       "      <td>$0.06</td>\n",
       "    </tr>\n",
       "    <tr>\n",
       "      <th>4/21/2020</th>\n",
       "      <td>8</td>\n",
       "      <td>Mobile Internet</td>\n",
       "      <td>0.16</td>\n",
       "      <td>Megabytes</td>\n",
       "      <td>$0.08</td>\n",
       "    </tr>\n",
       "    <tr>\n",
       "      <th>4/22/2020</th>\n",
       "      <td>10</td>\n",
       "      <td>Mobile Internet</td>\n",
       "      <td>11.16</td>\n",
       "      <td>Megabytes</td>\n",
       "      <td>$0.15</td>\n",
       "    </tr>\n",
       "    <tr>\n",
       "      <th>4/23/2020</th>\n",
       "      <td>11</td>\n",
       "      <td>Mobile Internet</td>\n",
       "      <td>9.16</td>\n",
       "      <td>Megabytes</td>\n",
       "      <td>$0.25</td>\n",
       "    </tr>\n",
       "  </tbody>\n",
       "</table>\n",
       "</div>"
      ],
      "text/plain": [
       "           Time          Service  Volume Measurement  Charge\n",
       "ï»¿Date                                                     \n",
       "4/19/2020     4  Mobile Internet   14.16   Megabytes  $0.05 \n",
       "4/20/2020     6  Mobile Internet    0.01   Megabytes  $0.06 \n",
       "4/21/2020     8  Mobile Internet    0.16   Megabytes  $0.08 \n",
       "4/22/2020    10  Mobile Internet   11.16   Megabytes  $0.15 \n",
       "4/23/2020    11  Mobile Internet    9.16   Megabytes  $0.25 "
      ]
     },
     "execution_count": 26,
     "metadata": {},
     "output_type": "execute_result"
    }
   ],
   "source": [
    "laptop_data.head()"
   ]
  },
  {
   "cell_type": "code",
   "execution_count": 29,
   "id": "b52b40f9",
   "metadata": {},
   "outputs": [
    {
     "data": {
      "text/html": [
       "<div>\n",
       "<style scoped>\n",
       "    .dataframe tbody tr th:only-of-type {\n",
       "        vertical-align: middle;\n",
       "    }\n",
       "\n",
       "    .dataframe tbody tr th {\n",
       "        vertical-align: top;\n",
       "    }\n",
       "\n",
       "    .dataframe thead th {\n",
       "        text-align: right;\n",
       "    }\n",
       "</style>\n",
       "<table border=\"1\" class=\"dataframe\">\n",
       "  <thead>\n",
       "    <tr style=\"text-align: right;\">\n",
       "      <th></th>\n",
       "      <th>Time</th>\n",
       "      <th>Volume</th>\n",
       "      <th>Service_Mobile Internet</th>\n",
       "      <th>Measurement_Megabytes</th>\n",
       "      <th>Charge_$0.00</th>\n",
       "      <th>Charge_$0.04</th>\n",
       "      <th>Charge_$0.05</th>\n",
       "      <th>Charge_$0.06</th>\n",
       "      <th>Charge_$0.08</th>\n",
       "      <th>Charge_$0.14</th>\n",
       "      <th>Charge_$0.15</th>\n",
       "      <th>Charge_$0.17</th>\n",
       "      <th>Charge_$0.19</th>\n",
       "      <th>Charge_$0.22</th>\n",
       "      <th>Charge_$0.25</th>\n",
       "      <th>Charge_$0.36</th>\n",
       "      <th>Charge_$0.45</th>\n",
       "      <th>Charge_$0.55</th>\n",
       "      <th>Charge_$0.90</th>\n",
       "    </tr>\n",
       "    <tr>\n",
       "      <th>ï»¿Date</th>\n",
       "      <th></th>\n",
       "      <th></th>\n",
       "      <th></th>\n",
       "      <th></th>\n",
       "      <th></th>\n",
       "      <th></th>\n",
       "      <th></th>\n",
       "      <th></th>\n",
       "      <th></th>\n",
       "      <th></th>\n",
       "      <th></th>\n",
       "      <th></th>\n",
       "      <th></th>\n",
       "      <th></th>\n",
       "      <th></th>\n",
       "      <th></th>\n",
       "      <th></th>\n",
       "      <th></th>\n",
       "      <th></th>\n",
       "    </tr>\n",
       "  </thead>\n",
       "  <tbody>\n",
       "    <tr>\n",
       "      <th>4/19/2020</th>\n",
       "      <td>4</td>\n",
       "      <td>14.16</td>\n",
       "      <td>1</td>\n",
       "      <td>1</td>\n",
       "      <td>0</td>\n",
       "      <td>0</td>\n",
       "      <td>1</td>\n",
       "      <td>0</td>\n",
       "      <td>0</td>\n",
       "      <td>0</td>\n",
       "      <td>0</td>\n",
       "      <td>0</td>\n",
       "      <td>0</td>\n",
       "      <td>0</td>\n",
       "      <td>0</td>\n",
       "      <td>0</td>\n",
       "      <td>0</td>\n",
       "      <td>0</td>\n",
       "      <td>0</td>\n",
       "    </tr>\n",
       "    <tr>\n",
       "      <th>4/20/2020</th>\n",
       "      <td>6</td>\n",
       "      <td>0.01</td>\n",
       "      <td>1</td>\n",
       "      <td>1</td>\n",
       "      <td>0</td>\n",
       "      <td>0</td>\n",
       "      <td>0</td>\n",
       "      <td>1</td>\n",
       "      <td>0</td>\n",
       "      <td>0</td>\n",
       "      <td>0</td>\n",
       "      <td>0</td>\n",
       "      <td>0</td>\n",
       "      <td>0</td>\n",
       "      <td>0</td>\n",
       "      <td>0</td>\n",
       "      <td>0</td>\n",
       "      <td>0</td>\n",
       "      <td>0</td>\n",
       "    </tr>\n",
       "    <tr>\n",
       "      <th>4/21/2020</th>\n",
       "      <td>8</td>\n",
       "      <td>0.16</td>\n",
       "      <td>1</td>\n",
       "      <td>1</td>\n",
       "      <td>0</td>\n",
       "      <td>0</td>\n",
       "      <td>0</td>\n",
       "      <td>0</td>\n",
       "      <td>1</td>\n",
       "      <td>0</td>\n",
       "      <td>0</td>\n",
       "      <td>0</td>\n",
       "      <td>0</td>\n",
       "      <td>0</td>\n",
       "      <td>0</td>\n",
       "      <td>0</td>\n",
       "      <td>0</td>\n",
       "      <td>0</td>\n",
       "      <td>0</td>\n",
       "    </tr>\n",
       "    <tr>\n",
       "      <th>4/22/2020</th>\n",
       "      <td>10</td>\n",
       "      <td>11.16</td>\n",
       "      <td>1</td>\n",
       "      <td>1</td>\n",
       "      <td>0</td>\n",
       "      <td>0</td>\n",
       "      <td>0</td>\n",
       "      <td>0</td>\n",
       "      <td>0</td>\n",
       "      <td>0</td>\n",
       "      <td>1</td>\n",
       "      <td>0</td>\n",
       "      <td>0</td>\n",
       "      <td>0</td>\n",
       "      <td>0</td>\n",
       "      <td>0</td>\n",
       "      <td>0</td>\n",
       "      <td>0</td>\n",
       "      <td>0</td>\n",
       "    </tr>\n",
       "    <tr>\n",
       "      <th>4/23/2020</th>\n",
       "      <td>11</td>\n",
       "      <td>9.16</td>\n",
       "      <td>1</td>\n",
       "      <td>1</td>\n",
       "      <td>0</td>\n",
       "      <td>0</td>\n",
       "      <td>0</td>\n",
       "      <td>0</td>\n",
       "      <td>0</td>\n",
       "      <td>0</td>\n",
       "      <td>0</td>\n",
       "      <td>0</td>\n",
       "      <td>0</td>\n",
       "      <td>0</td>\n",
       "      <td>1</td>\n",
       "      <td>0</td>\n",
       "      <td>0</td>\n",
       "      <td>0</td>\n",
       "      <td>0</td>\n",
       "    </tr>\n",
       "  </tbody>\n",
       "</table>\n",
       "</div>"
      ],
      "text/plain": [
       "           Time  Volume  Service_Mobile Internet  Measurement_Megabytes  \\\n",
       "ï»¿Date                                                                   \n",
       "4/19/2020     4   14.16                        1                      1   \n",
       "4/20/2020     6    0.01                        1                      1   \n",
       "4/21/2020     8    0.16                        1                      1   \n",
       "4/22/2020    10   11.16                        1                      1   \n",
       "4/23/2020    11    9.16                        1                      1   \n",
       "\n",
       "           Charge_$0.00   Charge_$0.04   Charge_$0.05   Charge_$0.06   \\\n",
       "ï»¿Date                                                                 \n",
       "4/19/2020              0              0              1              0   \n",
       "4/20/2020              0              0              0              1   \n",
       "4/21/2020              0              0              0              0   \n",
       "4/22/2020              0              0              0              0   \n",
       "4/23/2020              0              0              0              0   \n",
       "\n",
       "           Charge_$0.08   Charge_$0.14   Charge_$0.15   Charge_$0.17   \\\n",
       "ï»¿Date                                                                 \n",
       "4/19/2020              0              0              0              0   \n",
       "4/20/2020              0              0              0              0   \n",
       "4/21/2020              1              0              0              0   \n",
       "4/22/2020              0              0              1              0   \n",
       "4/23/2020              0              0              0              0   \n",
       "\n",
       "           Charge_$0.19   Charge_$0.22   Charge_$0.25   Charge_$0.36   \\\n",
       "ï»¿Date                                                                 \n",
       "4/19/2020              0              0              0              0   \n",
       "4/20/2020              0              0              0              0   \n",
       "4/21/2020              0              0              0              0   \n",
       "4/22/2020              0              0              0              0   \n",
       "4/23/2020              0              0              1              0   \n",
       "\n",
       "           Charge_$0.45   Charge_$0.55   Charge_$0.90   \n",
       "ï»¿Date                                                 \n",
       "4/19/2020              0              0              0  \n",
       "4/20/2020              0              0              0  \n",
       "4/21/2020              0              0              0  \n",
       "4/22/2020              0              0              0  \n",
       "4/23/2020              0              0              0  "
      ]
     },
     "execution_count": 29,
     "metadata": {},
     "output_type": "execute_result"
    }
   ],
   "source": [
    "dummy_laptop_data = pd.get_dummies(laptop_data)\n",
    "dummy_laptop_data.head()"
   ]
  },
  {
   "cell_type": "code",
   "execution_count": 30,
   "id": "5054a0a3",
   "metadata": {},
   "outputs": [
    {
     "data": {
      "text/plain": [
       "(15, 19)"
      ]
     },
     "execution_count": 30,
     "metadata": {},
     "output_type": "execute_result"
    }
   ],
   "source": [
    "dummy_laptop_data.shape"
   ]
  },
  {
   "cell_type": "code",
   "execution_count": 33,
   "id": "8b65ea2d",
   "metadata": {},
   "outputs": [],
   "source": [
    "from ipywidgets import interact, interactive, fixed, interact_manual\n",
    "import ipywidgets as widgets"
   ]
  },
  {
   "cell_type": "code",
   "execution_count": 37,
   "id": "ed9f491d",
   "metadata": {},
   "outputs": [],
   "source": [
    "w = widgets.IntSlider(value=10,\n",
    "                      min=-5,\n",
    "                      max=20,\n",
    "                      step=1,\n",
    "                      description='Range slider:',\n",
    "                      continuous_update=False,\n",
    "                      orientation='horizontal'\n",
    ")"
   ]
  },
  {
   "cell_type": "code",
   "execution_count": 38,
   "id": "6b676a5b",
   "metadata": {},
   "outputs": [
    {
     "data": {
      "application/vnd.jupyter.widget-view+json": {
       "model_id": "7d933b901ce04f44bf517503a9a564ac",
       "version_major": 2,
       "version_minor": 0
      },
      "text/plain": [
       "IntSlider(value=10, continuous_update=False, description='Range slider:', max=20, min=-5)"
      ]
     },
     "metadata": {},
     "output_type": "display_data"
    }
   ],
   "source": [
    "w"
   ]
  },
  {
   "cell_type": "code",
   "execution_count": 41,
   "id": "e3bdd5d5",
   "metadata": {},
   "outputs": [
    {
     "data": {
      "text/plain": [
       "16"
      ]
     },
     "execution_count": 41,
     "metadata": {},
     "output_type": "execute_result"
    }
   ],
   "source": [
    "w.value"
   ]
  },
  {
   "cell_type": "code",
   "execution_count": 42,
   "id": "89214d42",
   "metadata": {},
   "outputs": [
    {
     "data": {
      "text/plain": [
       "ipywidgets.widgets.widget_int.IntSlider"
      ]
     },
     "execution_count": 42,
     "metadata": {},
     "output_type": "execute_result"
    }
   ],
   "source": [
    "type(w)"
   ]
  },
  {
   "cell_type": "code",
   "execution_count": 45,
   "id": "a5dceadc",
   "metadata": {},
   "outputs": [],
   "source": [
    "r = widgets.IntRangeSlider(value=[10, 1000],\n",
    "                      min=0,\n",
    "                      max=10000,\n",
    "                      step=1,\n",
    "                      description='Price range:',\n",
    "                      orientation='horizontal'\n",
    ")"
   ]
  },
  {
   "cell_type": "code",
   "execution_count": 46,
   "id": "bd83f9d1",
   "metadata": {},
   "outputs": [
    {
     "data": {
      "application/vnd.jupyter.widget-view+json": {
       "model_id": "3a3bdaa5b91b465c968bde7e2e80c37e",
       "version_major": 2,
       "version_minor": 0
      },
      "text/plain": [
       "IntRangeSlider(value=(10, 1000), description='Price range:', max=10000)"
      ]
     },
     "metadata": {},
     "output_type": "display_data"
    }
   ],
   "source": [
    "r"
   ]
  },
  {
   "cell_type": "code",
   "execution_count": 48,
   "id": "9249514b",
   "metadata": {},
   "outputs": [
    {
     "data": {
      "text/plain": [
       "(1493, 5178)"
      ]
     },
     "execution_count": 48,
     "metadata": {},
     "output_type": "execute_result"
    }
   ],
   "source": [
    "r.value"
   ]
  },
  {
   "cell_type": "code",
   "execution_count": 55,
   "id": "db436acf",
   "metadata": {},
   "outputs": [],
   "source": [
    "p = widgets.IntProgress(value=15,\n",
    "                      min=0,\n",
    "                      max=100,\n",
    "                      step=1,\n",
    "                      description='Loading...:',\n",
    "                        bar_style='success',\n",
    "                      orientation='horizontal'\n",
    ")"
   ]
  },
  {
   "cell_type": "code",
   "execution_count": 56,
   "id": "77558dc5",
   "metadata": {},
   "outputs": [
    {
     "data": {
      "application/vnd.jupyter.widget-view+json": {
       "model_id": "2828a994b7544788bdf1264f0e5b9e25",
       "version_major": 2,
       "version_minor": 0
      },
      "text/plain": [
       "IntProgress(value=15, bar_style='success', description='Loading...:')"
      ]
     },
     "metadata": {},
     "output_type": "display_data"
    }
   ],
   "source": [
    "p"
   ]
  },
  {
   "cell_type": "code",
   "execution_count": 59,
   "id": "854256a9",
   "metadata": {},
   "outputs": [],
   "source": [
    "import time\n",
    "for i in range(0, 110, 10):\n",
    "    p.value = i\n",
    "    time.sleep(1)"
   ]
  },
  {
   "cell_type": "code",
   "execution_count": 60,
   "id": "f4af577f",
   "metadata": {},
   "outputs": [],
   "source": [
    "def f(x):\n",
    "    return x"
   ]
  },
  {
   "cell_type": "code",
   "execution_count": 62,
   "id": "51a36f06",
   "metadata": {},
   "outputs": [
    {
     "data": {
      "application/vnd.jupyter.widget-view+json": {
       "model_id": "3739818bdb4146f5a87988865932af5c",
       "version_major": 2,
       "version_minor": 0
      },
      "text/plain": [
       "interactive(children=(IntSlider(value=10, description='x', max=30, min=-10), Output()), _dom_classes=('widget-…"
      ]
     },
     "metadata": {},
     "output_type": "display_data"
    }
   ],
   "source": [
    "interact(f, x=10);"
   ]
  },
  {
   "cell_type": "code",
   "execution_count": null,
   "id": "3f4b5c20",
   "metadata": {},
   "outputs": [],
   "source": []
  }
 ],
 "metadata": {
  "kernelspec": {
   "display_name": "Python 3 (ipykernel)",
   "language": "python",
   "name": "python3"
  },
  "language_info": {
   "codemirror_mode": {
    "name": "ipython",
    "version": 3
   },
   "file_extension": ".py",
   "mimetype": "text/x-python",
   "name": "python",
   "nbconvert_exporter": "python",
   "pygments_lexer": "ipython3",
   "version": "3.10.9"
  }
 },
 "nbformat": 4,
 "nbformat_minor": 5
}
